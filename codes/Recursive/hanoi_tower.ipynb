{
 "cells": [
  {
   "cell_type": "markdown",
   "metadata": {},
   "source": [
    "### 하노이의 탑 이동순서 알고리즘\n",
    "def hanoi(x,n1,n2,n3): # n1: 시작 기둥, n2: 보조 기둥, n3: 목표 기둥\n",
    "\n",
    "    if (x==1):\n",
    "        print(n1,n3)\n",
    "        move.append(1)\n",
    "    else:\n",
    "        hanoi(x-1,n1,n3,n2)  # 보조기둥으로 (전체 - 1)의 원판을 옮긴다. \n",
    "        print(n1,n3) # 가장 큰 원판을 목표 기둥으로 옮긴다. \n",
    "        move.append(1)\n",
    "        hanoi(x-1,n2,n1,n3) # 보조기둥으로 옮겨진 원판을 목표 기둥으로 옮긴다.\n",
    "\n",
    "move =[]\n",
    "hanoi(3,1,2,3)  #hanoi(int(input()),1,2,3)\n",
    "\n",
    "print(len(move)) # 이동 횟수 출력\n"
   ]
  }
 ],
 "metadata": {
  "kernelspec": {
   "display_name": "Python 3",
   "language": "python",
   "name": "python3"
  },
  "language_info": {
   "codemirror_mode": {
    "name": "ipython",
    "version": 3
   },
   "file_extension": ".py",
   "mimetype": "text/x-python",
   "name": "python",
   "nbconvert_exporter": "python",
   "pygments_lexer": "ipython3",
   "version": "3.8.5"
  }
 },
 "nbformat": 4,
 "nbformat_minor": 4
}
