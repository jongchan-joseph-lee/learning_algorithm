{
 "cells": [
  {
   "cell_type": "code",
   "execution_count": 33,
   "metadata": {},
   "outputs": [
    {
     "name": "stdout",
     "output_type": "stream",
     "text": [
      "7\n",
      "1 3\n",
      "1 2\n",
      "3 2\n",
      "1 3\n",
      "2 1\n",
      "2 3\n",
      "1 3\n"
     ]
    }
   ],
   "source": [
    "### 하노이의 탑 이동순서 알고리즘\n",
    "def hanoi(x,n1,n2,n3): # n1: 시작 기둥, n2: 보조 기둥, n3: 목표 기둥\n",
    "\n",
    "    if (x==1):\n",
    "        move.append([n1, n3])\n",
    "    else:\n",
    "        hanoi(x-1,n1,n3,n2)  # 보조기둥으로 (전체 - 1)의 원판을 옮긴다. \n",
    "        move.append([n1, n3]) # 가장 큰 원판을 목표 기둥으로 옮긴다. \n",
    "        hanoi(x-1,n2,n1,n3) # 보조기둥으로 옮겨진 원판을 목표 기둥으로 옮긴다.\n",
    "\n",
    "move =[]\n",
    "hanoi(3,1,2,3)  #hanoi(int(input()),1,2,3)\n",
    "\n",
    "print(len(move)) # 이동 횟수 출력\n",
    "print('\\n'.join([' '.join(str(i) for i in row) for row in move]))"
   ]
  }
 ],
 "metadata": {
  "kernelspec": {
   "display_name": "Python 3",
   "language": "python",
   "name": "python3"
  },
  "language_info": {
   "codemirror_mode": {
    "name": "ipython",
    "version": 3
   },
   "file_extension": ".py",
   "mimetype": "text/x-python",
   "name": "python",
   "nbconvert_exporter": "python",
   "pygments_lexer": "ipython3",
   "version": "3.8.5"
  }
 },
 "nbformat": 4,
 "nbformat_minor": 4
}
