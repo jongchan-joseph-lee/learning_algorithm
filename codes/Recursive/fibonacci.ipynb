{
 "cells": [
  {
   "cell_type": "code",
   "execution_count": 4,
   "metadata": {},
   "outputs": [
    {
     "name": "stdout",
     "output_type": "stream",
     "text": [
      "55\n"
     ]
    }
   ],
   "source": [
    "# 피보나치수열 출력 문제\n",
    "def fibo(x):\n",
    "\n",
    "  if (x==1):\n",
    "    return 1\n",
    "\n",
    "  if (x==0):\n",
    "    return 0\n",
    "  \n",
    "  if (x>=2):\n",
    "    return fibo(x-1) + fibo (x-2)\n",
    "\n",
    "\n",
    "\n",
    "a = 10 # a = int(input())\n",
    "\n",
    "print(fibo(a))\n"
   ]
  }
 ],
 "metadata": {
  "kernelspec": {
   "display_name": "Python 3",
   "language": "python",
   "name": "python3"
  },
  "language_info": {
   "codemirror_mode": {
    "name": "ipython",
    "version": 3
   },
   "file_extension": ".py",
   "mimetype": "text/x-python",
   "name": "python",
   "nbconvert_exporter": "python",
   "pygments_lexer": "ipython3",
   "version": "3.8.5"
  }
 },
 "nbformat": 4,
 "nbformat_minor": 4
}
