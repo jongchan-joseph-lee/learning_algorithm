{
 "cells": [
  {
   "cell_type": "code",
   "execution_count": 2,
   "metadata": {},
   "outputs": [
    {
     "name": "stdout",
     "output_type": "stream",
     "text": [
      "120\n"
     ]
    }
   ],
   "source": [
    "# 팩토리얼 출력 문제 \n",
    "\n",
    "def factorial(N):\n",
    "  if (N>1) & (N<=12):\n",
    "    return N*factorial(N-1)\n",
    "  else:\n",
    "    return 1\n",
    "\n",
    "  \n",
    "\n",
    "a = 5 # a = int(input()) \n",
    "\n",
    "print(factorial(a))\n"
   ]
  }
 ],
 "metadata": {
  "kernelspec": {
   "display_name": "Python 3",
   "language": "python",
   "name": "python3"
  },
  "language_info": {
   "codemirror_mode": {
    "name": "ipython",
    "version": 3
   },
   "file_extension": ".py",
   "mimetype": "text/x-python",
   "name": "python",
   "nbconvert_exporter": "python",
   "pygments_lexer": "ipython3",
   "version": "3.8.5"
  }
 },
 "nbformat": 4,
 "nbformat_minor": 4
}
